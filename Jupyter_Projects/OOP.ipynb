{
 "cells": [
  {
   "cell_type": "code",
   "execution_count": 1,
   "id": "ce4ac37e-81f5-46fe-aa5c-6e5e2a8ffc6a",
   "metadata": {},
   "outputs": [],
   "source": [
    "import matplotlib.pyplot as plt\n",
    "import numpy as np\n",
    "from scipy.integrate import solve_ivp"
   ]
  },
  {
   "cell_type": "markdown",
   "id": "5f5b33cd-8acb-4faa-acb6-88988b90e49b",
   "metadata": {},
   "source": [
    "#### A class in Python is constructed as follows:"
   ]
  },
  {
   "cell_type": "code",
   "execution_count": 2,
   "id": "80ab25d2-b8df-4251-8b03-b50ddba7a497",
   "metadata": {},
   "outputs": [],
   "source": [
    "class Particle():\n",
    "    def __init__(self, x, y, z, vx, vy, vz, m):\n",
    "        self.x = x\n",
    "        self.y = y\n",
    "        self.z = z\n",
    "        self.vx = vx\n",
    "        self.vy = vy\n",
    "        self.vz = vz\n",
    "        self.m = m\n",
    "    def move(self, t):\n",
    "        self.x += self.vx * t\n",
    "        self.y += self.vy * t\n",
    "        self.z += self.vz * t\n",
    "    def get_distance_from_origin(self):\n",
    "        return np.sqrt(self.x**2 + self.y**2 + self.z**2)"
   ]
  },
  {
   "cell_type": "markdown",
   "id": "55393edb-9109-40a3-9c6a-171adedbd1e4",
   "metadata": {},
   "source": [
    "#### Creating an instance of the class, and calling it \"\"Particle\"\""
   ]
  },
  {
   "cell_type": "code",
   "execution_count": 3,
   "id": "ec11b8d0-7a99-4ce2-834b-16a0bcbb5589",
   "metadata": {},
   "outputs": [],
   "source": [
    "p1 = Particle(3, 0, 1, 1, 0, 0, 3)"
   ]
  },
  {
   "cell_type": "markdown",
   "id": "edcb54f0-742a-4653-8c91-bc5231e3effb",
   "metadata": {},
   "source": [
    "#### We can then, look at its attributes"
   ]
  },
  {
   "cell_type": "code",
   "execution_count": 4,
   "id": "6fca574d-e792-46a8-b62e-b0aa5d5cf8cf",
   "metadata": {},
   "outputs": [
    {
     "data": {
      "text/plain": [
       "3"
      ]
     },
     "execution_count": 4,
     "metadata": {},
     "output_type": "execute_result"
    }
   ],
   "source": [
    "p1.x"
   ]
  },
  {
   "cell_type": "code",
   "execution_count": 5,
   "id": "ec4eff12-deba-4924-9543-0a66ccba5174",
   "metadata": {},
   "outputs": [],
   "source": [
    "p1.move(2)"
   ]
  },
  {
   "cell_type": "code",
   "execution_count": 6,
   "id": "0aa21e33-35c0-4122-ab4b-55aed68489a8",
   "metadata": {},
   "outputs": [
    {
     "data": {
      "text/plain": [
       "5"
      ]
     },
     "execution_count": 6,
     "metadata": {},
     "output_type": "execute_result"
    }
   ],
   "source": [
    "p1.x"
   ]
  },
  {
   "cell_type": "code",
   "execution_count": 7,
   "id": "d24d82bb-06b7-4ac0-ac9c-672ae0ed1bab",
   "metadata": {},
   "outputs": [
    {
     "data": {
      "text/plain": [
       "0"
      ]
     },
     "execution_count": 7,
     "metadata": {},
     "output_type": "execute_result"
    }
   ],
   "source": [
    "p1.y"
   ]
  },
  {
   "cell_type": "code",
   "execution_count": 8,
   "id": "d735e23f-9f40-4032-8524-5330b77a420a",
   "metadata": {},
   "outputs": [
    {
     "data": {
      "text/plain": [
       "1"
      ]
     },
     "execution_count": 8,
     "metadata": {},
     "output_type": "execute_result"
    }
   ],
   "source": [
    "p1.z"
   ]
  },
  {
   "cell_type": "code",
   "execution_count": 9,
   "id": "1cbe1eb3-c587-4c7c-ad34-e8460ac4f165",
   "metadata": {},
   "outputs": [
    {
     "data": {
      "text/plain": [
       "5.0990195135927845"
      ]
     },
     "execution_count": 9,
     "metadata": {},
     "output_type": "execute_result"
    }
   ],
   "source": [
    "p1.get_distance_from_origin()"
   ]
  },
  {
   "cell_type": "markdown",
   "id": "fe510ca7-217e-4211-bec5-6e17df3b076d",
   "metadata": {},
   "source": [
    "## Inheritence of Class"
   ]
  },
  {
   "cell_type": "code",
   "execution_count": 10,
   "id": "3fa30872-5e4e-484a-9d9e-fcb0eade43b9",
   "metadata": {},
   "outputs": [],
   "source": [
    "class Proton(Particle):\n",
    "    def __init__(self, x, y, z, vx, vy, vz):\n",
    "        self.q = 1.6e-19\n",
    "        self.m = 9.11e-31\n",
    "        super (Proton, self).__init__(x, y, z, vx, vy, vz, self.m)"
   ]
  },
  {
   "cell_type": "code",
   "execution_count": 11,
   "id": "b6327878-43ca-4a4f-a1ba-a7ada39c26fd",
   "metadata": {},
   "outputs": [],
   "source": [
    "p = Proton(0, 0, 1, 1, 0, 0)"
   ]
  },
  {
   "cell_type": "code",
   "execution_count": 12,
   "id": "0158c00e-49ef-4ac7-96f7-c4e3e5324f3d",
   "metadata": {},
   "outputs": [],
   "source": [
    "import random\n",
    "import numpy as np\n",
    "\n",
    "def decay_sim(thalf, N0=500, tgrid=None, nhalflives=4):\n",
    "    \"\"\"Simulate the radioactive decay of N0 nuclei.\n",
    "\n",
    "    thalf is the half-life in some units of time.\n",
    "    If tgrid is provided, it should be a sequence of evenly-spaced time points\n",
    "    to run the simulation on.\n",
    "    If tgrid is None, it is calculated from nhalflives, the number of\n",
    "    half-lives to run the simulation for.\n",
    "\n",
    "    \"\"\"\n",
    "\n",
    "    # Calculate the lifetime from the half-life.\n",
    "    tau = thalf / np.log(2)\n",
    "\n",
    "    if tgrid is None:\n",
    "        # Create a grid of Nt time points up to tmax.\n",
    "        Nt, tmax = 100, thalf * nhalflives\n",
    "        tgrid, dt = np.linspace(0, tmax, Nt, retstep=True)\n",
    "    else:\n",
    "        # tgrid was provided: deduce Nt and the time step, dt.\n",
    "        Nt = len(tgrid)\n",
    "        dt = tgrid[1] - tgrid[0]\n",
    "\n",
    "    N = np.empty(Nt, dtype=int)\n",
    "    N[0] = N0\n",
    "    # The probability that a given nucleus will decay in time dt.\n",
    "    p = dt / tau\n",
    "    for i in range(1, Nt):\n",
    "        # At each time step, start with the undecayed nuclei from the previous.\n",
    "        N[i] = N[i-1]\n",
    "        # Consider each nucleus in turn and decide whether it decays or not.\n",
    "        for j in range(N[i-1]):\n",
    "            r = random.random()\n",
    "            if r < p:\n",
    "                # This nucleus decays.\n",
    "                N[i] -= 1 \n",
    "    return tgrid, N\n",
    "\n",
    "\n",
    "N0 = 500\n",
    "# Half life of 14C in years.\n",
    "thalf = 5730\n",
    "\n",
    "# Use Nt time steps up to tmax years.\n",
    "Nt, tmax = 100, 20000\n",
    "tgrid = np.linspace(0, tmax, Nt)\n",
    "\n",
    "# Repeat the simulation \"experiment\" nsims times.\n",
    "nsims = 10\n",
    "Nsim = np.empty((Nt, nsims))\n",
    "for i in range(nsims):\n",
    "    _, Nsim[:, i] = decay_sim(thalf, N0, tgrid)\n",
    "\n",
    "# Save the time grid, followed by the simulations in columns. We save integer\n",
    "# values for the data and create a comma-delimited file with a two-line header.\n",
    "np.savetxt('14C-sim.csv', np.hstack((tgrid[:, None], Nsim)),\n",
    "    fmt = '%d', delimiter=',',\n",
    "    header=f'Simulations of the radioactive decay of {N0} 14C nuclei.\\n'\n",
    "           f'Columns are time in years followed by {nsims} decay simulations.'\n",
    "          )"
   ]
  },
  {
   "cell_type": "markdown",
   "id": "56005732-4ffd-493e-864e-7313ba44c4e3",
   "metadata": {},
   "source": [
    "## Radioactive decay:"
   ]
  },
  {
   "cell_type": "code",
   "execution_count": null,
   "id": "ad0e6349-a4f9-423f-b4da-79f0c159d138",
   "metadata": {},
   "outputs": [],
   "source": [
    "prob = 0.0079\n",
    "dt = 2\n",
    "# setting up the loop to simulate radioactive decay over some period of time\n",
    "n = 10 #(Number of initial nuclei)\n",
    "t = 0.0\n",
    " # making a list of values to hold these number of nuclei at certain values of t\n",
    "tlist = []\n",
    "nlist = []\n",
    "while t<1000:\n",
    "    print (t, n)\n",
    "    n += -n*prob*dt\n",
    "    t += dt\n",
    "    nlist.append(n)\n",
    "    tlist.append(t)"
   ]
  },
  {
   "cell_type": "markdown",
   "id": "152a8033-8bf0-4779-90b7-dce6739a3b7e",
   "metadata": {},
   "source": [
    "## Plotting the decay curve"
   ]
  },
  {
   "cell_type": "code",
   "execution_count": null,
   "id": "6bf8e08c-5f85-42ae-ab95-c3337ac45cf7",
   "metadata": {},
   "outputs": [],
   "source": [
    "plt.plot(tlist, nlist, \"-b\")\n",
    "plt.xlabel(\"Time(sec)\")\n",
    "plt.ylabel(\"Number of nuclei at time T\")\n",
    "plt.show()"
   ]
  },
  {
   "cell_type": "code",
   "execution_count": null,
   "id": "2fa21d6c-b900-4156-b27c-322f7d672aa8",
   "metadata": {},
   "outputs": [],
   "source": []
  },
  {
   "cell_type": "code",
   "execution_count": null,
   "id": "6f873d8b-b957-4d46-be33-d6b0c7311332",
   "metadata": {},
   "outputs": [],
   "source": []
  }
 ],
 "metadata": {
  "kernelspec": {
   "display_name": "Python 3 (ipykernel)",
   "language": "python",
   "name": "python3"
  },
  "language_info": {
   "codemirror_mode": {
    "name": "ipython",
    "version": 3
   },
   "file_extension": ".py",
   "mimetype": "text/x-python",
   "name": "python",
   "nbconvert_exporter": "python",
   "pygments_lexer": "ipython3",
   "version": "3.10.5"
  }
 },
 "nbformat": 4,
 "nbformat_minor": 5
}
