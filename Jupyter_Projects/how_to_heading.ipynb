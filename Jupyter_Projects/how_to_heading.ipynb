{
 "cells": [
  {
   "cell_type": "markdown",
   "id": "60e58af2-8047-4d7b-a038-16874a510f94",
   "metadata": {},
   "source": [
    "# Heading (use'#')\n",
    "## Subheading (use'##')\n",
    "### Subsubheading (use'###')\n",
    "#### 4th-subheading (use'####')\n",
    "##### 5th-subheading ?? (use'#####')\n",
    "\n",
    "**yo, this is nice**. say WHAT **WHAT**"
   ]
  },
  {
   "cell_type": "markdown",
   "id": "2915e595-93bf-469f-b89e-f4728df036bb",
   "metadata": {},
   "source": [
    "**Use double asterisk ('**') for bold text"
   ]
  },
  {
   "cell_type": "markdown",
   "id": "e82c41a2-0eb2-4b32-a81b-2109b31cf261",
   "metadata": {},
   "source": [
    "*Use single asterisk('*') for italics"
   ]
  },
  {
   "cell_type": "markdown",
   "id": "5ddd8a9c-1067-483c-aa9c-6bdb2cfa6511",
   "metadata": {},
   "source": [
    "> Use code:\n",
    "afnan \n",
    "line break\\\n",
    "> this is also nice"
   ]
  },
  {
   "cell_type": "markdown",
   "id": "8d273595-0158-48c5-957b-3b0fe1caef7e",
   "metadata": {},
   "source": [
    "*(use ('>') followed by a space) for indentation*"
   ]
  }
 ],
 "metadata": {
  "kernelspec": {
   "display_name": "Python 3 (ipykernel)",
   "language": "python",
   "name": "python3"
  },
  "language_info": {
   "codemirror_mode": {
    "name": "ipython",
    "version": 3
   },
   "file_extension": ".py",
   "mimetype": "text/x-python",
   "name": "python",
   "nbconvert_exporter": "python",
   "pygments_lexer": "ipython3",
   "version": "3.10.5"
  }
 },
 "nbformat": 4,
 "nbformat_minor": 5
}
