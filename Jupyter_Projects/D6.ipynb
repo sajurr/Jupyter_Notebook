{
 "cells": [
  {
   "cell_type": "code",
   "execution_count": 3,
   "id": "b1be0620-5b37-44a9-99fd-9562b837e019",
   "metadata": {},
   "outputs": [],
   "source": [
    "import matplotlib.pyplot as plt\n",
    "import numpy as np"
   ]
  },
  {
   "cell_type": "code",
   "execution_count": 6,
   "id": "7f7c6754-16c1-4e01-bedf-561a4cb62daa",
   "metadata": {},
   "outputs": [
    {
     "data": {
      "text/plain": [
       "array([[3, 0, 5],\n",
       "       [4, 5, 6],\n",
       "       [5, 6, 7]])"
      ]
     },
     "execution_count": 6,
     "metadata": {},
     "output_type": "execute_result"
    }
   ],
   "source": [
    "A = np.array([[3, 4, 5], [0, 5, 6], [5, 6, 7]])\n",
    "b1 = np.array([1, 3, 4])\n",
    "b2 = np.array([-3, -5, -6])\n",
    "A.T"
   ]
  },
  {
   "cell_type": "code",
   "execution_count": 7,
   "id": "80365ed5-530f-4f9b-a364-e282d157c4bc",
   "metadata": {},
   "outputs": [
    {
     "data": {
      "text/plain": [
       "array([[3, 4, 5],\n",
       "       [0, 5, 6],\n",
       "       [5, 6, 7]])"
      ]
     },
     "execution_count": 7,
     "metadata": {},
     "output_type": "execute_result"
    }
   ],
   "source": [
    "A"
   ]
  },
  {
   "cell_type": "code",
   "execution_count": null,
   "id": "7ba02f4e-728d-476f-bba9-f75e1376be86",
   "metadata": {},
   "outputs": [],
   "source": []
  }
 ],
 "metadata": {
  "kernelspec": {
   "display_name": "Python 3 (ipykernel)",
   "language": "python",
   "name": "python3"
  },
  "language_info": {
   "codemirror_mode": {
    "name": "ipython",
    "version": 3
   },
   "file_extension": ".py",
   "mimetype": "text/x-python",
   "name": "python",
   "nbconvert_exporter": "python",
   "pygments_lexer": "ipython3",
   "version": "3.10.5"
  }
 },
 "nbformat": 4,
 "nbformat_minor": 5
}
