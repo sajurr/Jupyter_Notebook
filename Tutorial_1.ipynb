{
 "cells": [
  {
   "cell_type": "markdown",
   "id": "b79341a9-ed5a-4c39-8c2d-81c8d33981a4",
   "metadata": {},
   "source": [
    "## Installing Jupyter Notebook, Python, Numpy library and Matplotlib library. \n",
    "0) Why Numpy?\n",
    "1) Some important keyboard shortcuts (quick review) \n",
    "2) Exercise questions at the end of the notebook\n",
    "3) (Links of all the documentation is in the description box)\n",
    "4) Imp: Multiple versions of python"
   ]
  },
  {
   "cell_type": "code",
   "execution_count": 1,
   "id": "6fa3c150-fccd-4283-9d35-99aad69366fe",
   "metadata": {},
   "outputs": [],
   "source": [
    "import numpy as np\n",
    "import matplotlib.pyplot as plt"
   ]
  },
  {
   "cell_type": "markdown",
   "id": "68d0362a-4faa-485f-b276-d89925b7efb1",
   "metadata": {},
   "source": [
    "## Arrays and their operations"
   ]
  },
  {
   "cell_type": "markdown",
   "id": "8e610a2c-d9b9-4e92-bce2-2ef002bebfb2",
   "metadata": {},
   "source": [
    "## 1) Types of arrays"
   ]
  },
  {
   "cell_type": "code",
   "execution_count": null,
   "id": "1c7215aa-ed36-466f-a295-5051684adedf",
   "metadata": {},
   "outputs": [],
   "source": []
  },
  {
   "cell_type": "code",
   "execution_count": null,
   "id": "2a519921-13c8-4530-868f-c06a61cf351d",
   "metadata": {},
   "outputs": [],
   "source": []
  },
  {
   "cell_type": "markdown",
   "id": "c55e038c-bebc-48fa-8685-f755e860904b",
   "metadata": {},
   "source": [
    "## 2) Operations on arrays"
   ]
  },
  {
   "cell_type": "markdown",
   "id": "b5a824a5-5237-4fd4-8927-6943428ecd44",
   "metadata": {},
   "source": [
    "## (i) Basic algebra"
   ]
  },
  {
   "cell_type": "code",
   "execution_count": null,
   "id": "9c7946e0-c212-47df-8def-19e6e44b1daa",
   "metadata": {},
   "outputs": [],
   "source": []
  },
  {
   "cell_type": "markdown",
   "id": "8e2d0278-6d10-42a7-83dc-90ca54952a58",
   "metadata": {},
   "source": [
    "## (ii)Matrix multiplication"
   ]
  },
  {
   "cell_type": "code",
   "execution_count": null,
   "id": "7823e59a-da05-48df-8069-59111f62b83a",
   "metadata": {},
   "outputs": [],
   "source": []
  },
  {
   "cell_type": "markdown",
   "id": "373fe3bb-6274-4427-913b-30aa5077d248",
   "metadata": {},
   "source": [
    "## Cherrypicking specific elements of an array (Indexing)"
   ]
  },
  {
   "cell_type": "code",
   "execution_count": null,
   "id": "502265f0-6813-4d8f-851e-0c914b64a226",
   "metadata": {},
   "outputs": [],
   "source": []
  },
  {
   "cell_type": "markdown",
   "id": "29e661fd-4fc0-4bb9-aae8-396c30b4b509",
   "metadata": {},
   "source": [
    "## Multi-dimensional arrays"
   ]
  },
  {
   "cell_type": "code",
   "execution_count": null,
   "id": "3142cec0-e063-4ec9-b9b3-aaaa1b0660e5",
   "metadata": {},
   "outputs": [],
   "source": []
  },
  {
   "cell_type": "code",
   "execution_count": null,
   "id": "964ce4df-ca11-44a4-9809-08cdae7ac4cc",
   "metadata": {},
   "outputs": [],
   "source": []
  },
  {
   "cell_type": "markdown",
   "id": "6e1d1dd8-3379-4c42-a936-f2fcd17a7809",
   "metadata": {},
   "source": [
    "## Differentiation "
   ]
  },
  {
   "cell_type": "code",
   "execution_count": null,
   "id": "e91243a5-fb78-47d1-ae4a-245272655f90",
   "metadata": {},
   "outputs": [],
   "source": []
  },
  {
   "cell_type": "markdown",
   "id": "6b0a3720-455a-4a56-b331-f69550bdd3fe",
   "metadata": {},
   "source": [
    "## Integration"
   ]
  },
  {
   "cell_type": "code",
   "execution_count": null,
   "id": "2475673d-80a4-41d7-b788-6ddde9bd6787",
   "metadata": {},
   "outputs": [],
   "source": []
  },
  {
   "cell_type": "markdown",
   "id": "d5dca751-30fe-43ec-be6b-7947111971e7",
   "metadata": {},
   "source": [
    "## Plotting 2D functions"
   ]
  },
  {
   "cell_type": "code",
   "execution_count": null,
   "id": "d56751e5-2524-40c6-9df8-0fa215e65190",
   "metadata": {},
   "outputs": [],
   "source": []
  },
  {
   "cell_type": "markdown",
   "id": "724c4227-1294-451d-8589-1b61d16762cc",
   "metadata": {},
   "source": [
    "## Plotting 3D functions"
   ]
  },
  {
   "cell_type": "code",
   "execution_count": null,
   "id": "c0726973-03a6-44fe-9cd8-a818bc3aec19",
   "metadata": {},
   "outputs": [],
   "source": []
  },
  {
   "cell_type": "markdown",
   "id": "14f1a7f0-ca16-486d-ae8d-d7ee629514b8",
   "metadata": {},
   "source": []
  }
 ],
 "metadata": {
  "kernelspec": {
   "display_name": "Python 3 (ipykernel)",
   "language": "python",
   "name": "python3"
  },
  "language_info": {
   "codemirror_mode": {
    "name": "ipython",
    "version": 3
   },
   "file_extension": ".py",
   "mimetype": "text/x-python",
   "name": "python",
   "nbconvert_exporter": "python",
   "pygments_lexer": "ipython3",
   "version": "3.7.3"
  }
 },
 "nbformat": 4,
 "nbformat_minor": 5
}
